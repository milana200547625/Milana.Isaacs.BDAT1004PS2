{
 "cells": [
  {
   "cell_type": "markdown",
   "id": "17b40a62",
   "metadata": {},
   "source": [
    "# Question 1\n",
    "Consider the following Python module:\n",
    "a = 0\n",
    "def b():\n",
    "global a\n",
    "a = c(a)\n",
    "def c(a):\n",
    "return a + 2\n",
    "After importing the module into the interpreter, you execute:\n",
    ">>> b()\n",
    ">>> b()\n",
    ">>> b()\n",
    ">>> a\n",
    "?\n",
    "What value is displayed when the last expression (a) is evaluated? Explain your answer by indicating what happens in every executed statement."
   ]
  },
  {
   "cell_type": "code",
   "execution_count": 117,
   "id": "48c86dee",
   "metadata": {},
   "outputs": [
    {
     "data": {
      "text/plain": [
       "6"
      ]
     },
     "execution_count": 117,
     "metadata": {},
     "output_type": "execute_result"
    }
   ],
   "source": [
    "a = 0\n",
    "def b():\n",
    "    global a\n",
    "    a = c(a)\n",
    "def c(a):\n",
    "    return a + 2\n",
    "b()\n",
    "b()\n",
    "b()\n",
    "a"
   ]
  },
  {
   "cell_type": "markdown",
   "id": "4344264a",
   "metadata": {},
   "source": [
    "# Answer:\n",
    "a is initially assigned as 0, the variable belongs to the global scope. The function b is called thrice. Each time b() is called 2 is added to a, hence when called thrice 2 is added 3 times. "
   ]
  },
  {
   "cell_type": "markdown",
   "id": "7c75fe1e",
   "metadata": {},
   "source": [
    "# Question 2 \n",
    "Function fileLength(), given to you, takes the name of a file as input and returns the length of the file: \n",
    ">>> fileLength('midterm.py') \n",
    "284 \n",
    ">>> fileLength('idterm.py') \n",
    "Traceback (most recent call last): \n",
    "    File \"<pyshell#34>\", line 1, in <module> \n",
    "        fileLength('idterm.py') \n",
    "    File \"/Users/me/midterm.py\", line 3, in fileLength \n",
    "        infile = open(filename) \n",
    "FileNotFoundError: [Errno 2] No such file or directory: \n",
    "'idterm.py'\n",
    "    \n",
    "As shown above, if the file cannot be found by the interpreter or if it cannot be read as a text file, an exception will be raised. Modify function fileLength() so that a friendly message is printed instead: \n",
    ">>> fileLength('midterm.py') \n",
    "358 \n",
    ">>> fileLength('idterm.py') \n",
    "File idterm.py not found."
   ]
  },
  {
   "cell_type": "code",
   "execution_count": 118,
   "id": "f3d25f56",
   "metadata": {},
   "outputs": [
    {
     "name": "stdout",
     "output_type": "stream",
     "text": [
      "55\n",
      "File idterm.py not found.\n"
     ]
    }
   ],
   "source": [
    "def fileLength(filename):\n",
    "    try:\n",
    "        file = open(filename)\n",
    "        contents = file.read()\n",
    "        file.close()\n",
    "        print(len(contents))\n",
    "    except FileNotFoundError: #handle error\n",
    "        print(f\"File {filename} not found.\")\n",
    "    except:\n",
    "        print(\"An error occurred while reading the file.\")\n",
    "\n",
    "fileLength('midterm.py') \n",
    "fileLength('idterm.py')  "
   ]
  },
  {
   "cell_type": "markdown",
   "id": "f8481384",
   "metadata": {},
   "source": [
    "# Question 3 \n",
    "Write a class named Marsupial that can be used as shown below: \n",
    ">>> m = Marsupial() \n",
    ">>> m.put_in_pouch('doll') \n",
    ">>> m.put_in_pouch('firetruck') \n",
    ">>> m.put_in_pouch('kitten') \n",
    ">>> m.pouch_contents() \n",
    "['doll', 'firetruck', 'kitten']\n",
    "Now write a class named Kangaroo as a subclass of Marsupial that inherits all the attributes of Marsupial and also:\n",
    "a. extends the Marsupial __init__ constructor to take, as input, the coordinates x and y of the Kangaroo object,\n",
    "b. supports method jump that takes number values dx and dy as input and moves the kangaroo by dx units along the x-axis and by dy units along the y-axis, and\n",
    "c. overloads the __str__ operator so it behaves as shown below.\n",
    ">>> k = Kangaroo(0,0) \n",
    ">>> print(k) I am a Kangaroo located at coordinates (0,0) \n",
    ">>> k.put_in_pouch('doll') \n",
    ">>> k.put_in_pouch('firetruck') \n",
    ">>> k.put_in_pouch('kitten') \n",
    ">>> k.pouch_contents() \n",
    "['doll', 'firetruck', 'kitten'] \n",
    ">>> k.jump(1,0) \n",
    ">>> k.jump(1,0) \n",
    ">> k.jump(1,0) \n",
    ">>> print(k) \n",
    "I am a Kangaroo located at coordinates (3,0)"
   ]
  },
  {
   "cell_type": "code",
   "execution_count": 119,
   "id": "5182580b",
   "metadata": {},
   "outputs": [
    {
     "data": {
      "text/plain": [
       "['doll', 'firetruck', 'kitten']"
      ]
     },
     "execution_count": 119,
     "metadata": {},
     "output_type": "execute_result"
    }
   ],
   "source": [
    "class Marsupial:#define class\n",
    "    def __init__(self):\n",
    "        self.pouchList = [] #initialize an empty list\n",
    "\n",
    "    # method adds value to the list    \n",
    "    def put_in_pouch(self, inputVal):\n",
    "        self.pouchList.append(inputVal)\n",
    "\n",
    "    # method returns list of items   \n",
    "    def pouch_contents(self):\n",
    "        return self.pouchList\n",
    "        \n",
    "m = Marsupial()\n",
    "m.put_in_pouch('doll')\n",
    "m.put_in_pouch('firetruck')\n",
    "m.put_in_pouch('kitten')\n",
    "m.pouch_contents()"
   ]
  },
  {
   "cell_type": "code",
   "execution_count": 120,
   "id": "97118afa",
   "metadata": {},
   "outputs": [
    {
     "name": "stdout",
     "output_type": "stream",
     "text": [
      "I am Kangaroo located at coordinates 0,0\n",
      "['doll', 'firetruck', 'kitten']\n",
      "I am Kangaroo located at coordinates 3,0\n"
     ]
    }
   ],
   "source": [
    "class Marsupial:\n",
    "    def __init__(self):\n",
    "        self.pouchList = []\n",
    "\n",
    "    def put_in_pouch(self, inputVal):\n",
    "        self.pouchList.append(inputVal)\n",
    "\n",
    "    def pouch_contents(self):\n",
    "        print(self.pouchList)\n",
    "\n",
    "\n",
    "class Kangaroo(Marsupial):#extend class Marsupial\n",
    "    def __init__(self,x,y):\n",
    "        super().__init__()#access parent constructor\n",
    "        self.x1 = x\n",
    "        self.y1 = y\n",
    "\n",
    "    #method to increment coordinates    \n",
    "    def jump(self,x,y):\n",
    "        self.x1=self.x1+x\n",
    "        self.y1=self.y1+y\n",
    "\n",
    "    #override __str__\n",
    "    def __str__(self):\n",
    "        return f\"I am Kangaroo located at coordinates {self.x1},{self.y1}\"\n",
    "\n",
    "k = Kangaroo(0,0)\n",
    "print(k)\n",
    "k.put_in_pouch('doll')\n",
    "k.put_in_pouch('firetruck')\n",
    "k.put_in_pouch('kitten')\n",
    "k.pouch_contents()\n",
    "k.jump(1,0)\n",
    "k.jump(1,0)\n",
    "k.jump(1,0)\n",
    "print(k)"
   ]
  },
  {
   "cell_type": "markdown",
   "id": "c6e231ec",
   "metadata": {},
   "source": [
    "# Question 4\n",
    "Write function collatz() that takes a positive integer x as input and prints the Collatz sequence starting at x. A Collatz sequence is obtained by repeatedly applying this rule to the previous number x in the sequence:\n",
    "x = { 𝑥/2 𝑖𝑓 𝑥 𝑖𝑠 𝑒𝑣𝑒𝑛, 3𝑥+1 𝑖𝑓 𝑥 𝑖𝑠 𝑜𝑑𝑑\n",
    "Your function should stop when the sequence gets to number 1. Your implementation must be recursive, without any loops.\n",
    ">>> collatz(1)\n",
    "1\n",
    ">>> collatz(10)\n",
    "10\n",
    "5\n",
    "16\n",
    "8\n",
    "4\n",
    "2\n",
    "1"
   ]
  },
  {
   "cell_type": "code",
   "execution_count": 121,
   "id": "87335ea8",
   "metadata": {},
   "outputs": [
    {
     "name": "stdout",
     "output_type": "stream",
     "text": [
      "Enter input(Press 0 to Exit): 11\n",
      "11\n",
      "34\n",
      "17\n",
      "52\n",
      "26\n",
      "13\n",
      "40\n",
      "20\n",
      "10\n",
      "5\n",
      "16\n",
      "8\n",
      "4\n",
      "2\n",
      "1\n",
      "Enter input(Press 0 to Exit): 10\n",
      "10\n",
      "5\n",
      "16\n",
      "8\n",
      "4\n",
      "2\n",
      "1\n",
      "Enter input(Press 0 to Exit): 1\n",
      "1\n",
      "Enter input(Press 0 to Exit): 0\n"
     ]
    }
   ],
   "source": [
    "def collatz(x): \n",
    "        \n",
    "        if x!=1:\n",
    "            print(int(x))\n",
    "            if x%2 == 0: #check even\n",
    "                x = x/2\n",
    "            else:       #odd\n",
    "                x = (3*x)+1\n",
    "            collatz(x)\n",
    "        else:\n",
    "            print(int(x))\n",
    "\n",
    "while True:  \n",
    "    x = int(input(\"Enter input(Press 0 to Exit): \"))\n",
    "    if x == 0:\n",
    "        break\n",
    "    elif x<=0:  \n",
    "        print(\"Invalid input! Enter positive integer.\")\n",
    "    else:\n",
    "        collatz(x)"
   ]
  },
  {
   "cell_type": "markdown",
   "id": "6a7257ad",
   "metadata": {},
   "source": [
    "# Question 5 \n",
    "Write a recursive method binary() that takes a non-negative integer n and prints the binary representation of integer n. \n",
    ">>> binary(0) \n",
    "0 \n",
    ">>> binary(1) \n",
    "1 \n",
    ">>> binary(3) \n",
    "11 \n",
    ">>> binary(9) \n",
    "1001"
   ]
  },
  {
   "cell_type": "code",
   "execution_count": 124,
   "id": "f3b62094",
   "metadata": {},
   "outputs": [
    {
     "name": "stdout",
     "output_type": "stream",
     "text": [
      "\n",
      "Enter input(Press # to Exit): 0\n",
      "0\n",
      "\n",
      "Enter input(Press # to Exit): 1\n",
      "1\n",
      "Enter input(Press # to Exit): 11\n",
      "1101\n",
      "Enter input(Press # to Exit): 9\n",
      "1001\n",
      "Enter input(Press # to Exit): 3\n",
      "11\n",
      "Enter input(Press # to Exit): #\n"
     ]
    }
   ],
   "source": [
    "def binary(Input):\n",
    "    if Input>0:\n",
    "        binaryVal = Input%2  #find remainder\n",
    "        print(binaryVal, end ='')\n",
    "        Input = int(Input/2) #find quotient\n",
    "        binary(Input) #recursive method call\n",
    "while True:  \n",
    "    Input = input(\"\\nEnter input(Press # to Exit): \")\n",
    "    if Input == '#':\n",
    "        break\n",
    "    elif int(Input)<0:  \n",
    "        print(\"\\nInvalid input! Enter positive integer.\")\n",
    "    elif int(Input) ==0:\n",
    "        print(Input)\n",
    "    else:\n",
    "        binary(int(Input))"
   ]
  },
  {
   "attachments": {},
   "cell_type": "markdown",
   "id": "0fe2d967",
   "metadata": {},
   "source": [
    "# Question 8\n",
    "Write SQL queries on the below database table that return:"
   ]
  },
  {
   "attachments": {
    "qs8ps2.png": {
     "image/png": "[encoded data removed]"
    }
   },
   "cell_type": "markdown",
   "id": "df3dfbea",
   "metadata": {},
   "source": [
    "![qs8ps2.png](attachment:qs8ps2.png)"
   ]
  },
  {
   "cell_type": "code",
   "execution_count": 125,
   "id": "6edec1bf",
   "metadata": {},
   "outputs": [
    {
     "data": {
      "text/plain": [
       "<sqlite3.Cursor at 0x20e48461bc0>"
      ]
     },
     "execution_count": 125,
     "metadata": {},
     "output_type": "execute_result"
    }
   ],
   "source": [
    "import sqlite3\n",
    "con = sqlite3.connect('Climate.db') #create connection to database\n",
    "cur = con.cursor() #create database cursor\n",
    "cur.execute(\"CREATE TABLE Climatetable (City, Country, Season, Temperature, Rainfall)\") #create table"
   ]
  },
  {
   "cell_type": "code",
   "execution_count": 126,
   "id": "10a7f66a",
   "metadata": {
    "scrolled": false
   },
   "outputs": [
    {
     "name": "stdout",
     "output_type": "stream",
     "text": [
      "['Mumbai', 'India', 'Winter', '24.8', '5.9\\n']\n",
      "['Mumbai', 'India', 'Spring', '28.4', '16.2\\n']\n",
      "['Mumbai', 'India', 'Summer', '27.9', '1549.4\\n']\n",
      "['Mumbai', 'India', 'Fall', '27.6', '346.0\\n']\n",
      "['London', 'United Kingdom', 'Winter', '4.2', '207.7\\n']\n",
      "['London', 'United Kingdom', 'Spring', '8.3', '169.6\\n']\n",
      "['London', 'United Kingdom', 'Summer', '15.7', '157.0\\n']\n",
      "['London', 'United Kingdom', 'Fall', '10.4', '218.5\\n']\n",
      "['Cairo', 'Egypt', 'Winter', '13.6', '16.5\\n']\n",
      "['Cairo', 'Egypt', 'Spring', '20.7', '6.5\\n']\n",
      "['Cairo', 'Egypt', 'Summer', '27.7', '0.1\\n']\n",
      "['Cairo', 'Egypt', 'Fall', '22.2', '4.5\\n']\n"
     ]
    }
   ],
   "source": [
    "infile = open(\"Seasons.csv\", \"r\")\n",
    "line = infile.readlines() #read input file\n",
    "infile.close()\n",
    "line.pop(0) #exclude column names\n",
    "for row in line:\n",
    "    #print(row.split(\",\"))\n",
    "    col=row.split(\",\")\n",
    "    print(col)\n",
    "    #Insert values into the table\n",
    "    cur.execute(\"INSERT INTO Climatetable VALUES (?, ?, ?, ?, ?)\", (col[0], col[1], col[2], float(col[3]), float(col[4].strip()))) \n"
   ]
  },
  {
   "cell_type": "code",
   "execution_count": 127,
   "id": "dbdd73b6",
   "metadata": {
    "scrolled": true
   },
   "outputs": [
    {
     "name": "stdout",
     "output_type": "stream",
     "text": [
      "('Mumbai', 'India', 'Winter', 24.8, 5.9)\n",
      "('Mumbai', 'India', 'Spring', 28.4, 16.2)\n",
      "('Mumbai', 'India', 'Summer', 27.9, 1549.4)\n",
      "('Mumbai', 'India', 'Fall', 27.6, 346.0)\n",
      "('London', 'United Kingdom', 'Winter', 4.2, 207.7)\n",
      "('London', 'United Kingdom', 'Spring', 8.3, 169.6)\n",
      "('London', 'United Kingdom', 'Summer', 15.7, 157.0)\n",
      "('London', 'United Kingdom', 'Fall', 10.4, 218.5)\n",
      "('Cairo', 'Egypt', 'Winter', 13.6, 16.5)\n",
      "('Cairo', 'Egypt', 'Spring', 20.7, 6.5)\n",
      "('Cairo', 'Egypt', 'Summer', 27.7, 0.1)\n",
      "('Cairo', 'Egypt', 'Fall', 22.2, 4.5)\n"
     ]
    }
   ],
   "source": [
    "cur.execute('SELECT * FROM Climatetable')\n",
    "#display all values in table\n",
    "for record in cur:\n",
    "    print(record)"
   ]
  },
  {
   "cell_type": "markdown",
   "id": "94ae182d",
   "metadata": {},
   "source": [
    "# a) \n",
    "All the temperature data."
   ]
  },
  {
   "cell_type": "code",
   "execution_count": 128,
   "id": "4714a5bb",
   "metadata": {
    "scrolled": true
   },
   "outputs": [
    {
     "name": "stdout",
     "output_type": "stream",
     "text": [
      "(24.8,)\n",
      "(28.4,)\n",
      "(27.9,)\n",
      "(27.6,)\n",
      "(4.2,)\n",
      "(8.3,)\n",
      "(15.7,)\n",
      "(10.4,)\n",
      "(13.6,)\n",
      "(20.7,)\n",
      "(27.7,)\n",
      "(22.2,)\n"
     ]
    }
   ],
   "source": [
    "cur.execute('SELECT Temperature FROM Climatetable')\n",
    "\n",
    "for record in cur:\n",
    "    print(record)"
   ]
  },
  {
   "cell_type": "markdown",
   "id": "1309ab59",
   "metadata": {},
   "source": [
    "# b) \n",
    "All the cities, but without repetition."
   ]
  },
  {
   "cell_type": "code",
   "execution_count": 129,
   "id": "84a001f4",
   "metadata": {},
   "outputs": [
    {
     "name": "stdout",
     "output_type": "stream",
     "text": [
      "('Mumbai',)\n",
      "('London',)\n",
      "('Cairo',)\n"
     ]
    }
   ],
   "source": [
    "cur.execute('SELECT DISTINCT(City) FROM Climatetable')\n",
    "\n",
    "for record in cur:\n",
    "    print(record)"
   ]
  },
  {
   "cell_type": "markdown",
   "id": "54cadff1",
   "metadata": {},
   "source": [
    "# c) \n",
    "All the records for India."
   ]
  },
  {
   "cell_type": "code",
   "execution_count": 130,
   "id": "e533eb08",
   "metadata": {},
   "outputs": [
    {
     "name": "stdout",
     "output_type": "stream",
     "text": [
      "('Mumbai', 'India', 'Winter', 24.8, 5.9)\n",
      "('Mumbai', 'India', 'Spring', 28.4, 16.2)\n",
      "('Mumbai', 'India', 'Summer', 27.9, 1549.4)\n",
      "('Mumbai', 'India', 'Fall', 27.6, 346.0)\n"
     ]
    }
   ],
   "source": [
    "cur.execute('SELECT * FROM Climatetable WHERE Country=\"India\"')\n",
    "\n",
    "for record in cur:\n",
    "    print(record)"
   ]
  },
  {
   "cell_type": "markdown",
   "id": "23b8fd64",
   "metadata": {},
   "source": [
    "# d) \n",
    "All the Fall records.\n"
   ]
  },
  {
   "cell_type": "code",
   "execution_count": 131,
   "id": "64e105c0",
   "metadata": {},
   "outputs": [
    {
     "name": "stdout",
     "output_type": "stream",
     "text": [
      "('Mumbai', 'India', 'Fall', 27.6, 346.0)\n",
      "('London', 'United Kingdom', 'Fall', 10.4, 218.5)\n",
      "('Cairo', 'Egypt', 'Fall', 22.2, 4.5)\n"
     ]
    }
   ],
   "source": [
    "cur.execute('SELECT * FROM Climatetable WHERE Season=\"Fall\"')\n",
    "\n",
    "for record in cur:\n",
    "    print(record)"
   ]
  },
  {
   "cell_type": "markdown",
   "id": "423f0dbb",
   "metadata": {},
   "source": [
    "# e) \n",
    "The city, country, and season for which the average rainfall is between 200 and 400 millimeters."
   ]
  },
  {
   "cell_type": "code",
   "execution_count": 132,
   "id": "b107de85",
   "metadata": {},
   "outputs": [
    {
     "name": "stdout",
     "output_type": "stream",
     "text": [
      "('London', 'United Kingdom', 'Fall')\n",
      "('London', 'United Kingdom', 'Winter')\n",
      "('Mumbai', 'India', 'Fall')\n"
     ]
    }
   ],
   "source": [
    "cur.execute('SELECT City, Country, Season FROM Climatetable GROUP BY City, Country, Season HAVING AVG(Rainfall) BETWEEN 200 AND 400')\n",
    "\n",
    "for record in cur:\n",
    "    print(record)"
   ]
  },
  {
   "cell_type": "markdown",
   "id": "98de8891",
   "metadata": {},
   "source": [
    "# f) \n",
    "The city and country for which the average Fall temperature is above 20 degrees, in increasing temperature order."
   ]
  },
  {
   "cell_type": "code",
   "execution_count": 133,
   "id": "514e2002",
   "metadata": {},
   "outputs": [
    {
     "name": "stdout",
     "output_type": "stream",
     "text": [
      "('Cairo', 'Egypt')\n",
      "('Mumbai', 'India')\n"
     ]
    }
   ],
   "source": [
    "cur.execute('SELECT City, Country FROM Climatetable WHERE Season = \"Fall\" GROUP BY City, Country HAVING AVG(Temperature)>20 ORDER BY Temperature')\n",
    "\n",
    "for record in cur:\n",
    "    print(record)"
   ]
  },
  {
   "cell_type": "markdown",
   "id": "632e2271",
   "metadata": {},
   "source": [
    "# g) \n",
    "The total annual rainfall for Cairo."
   ]
  },
  {
   "cell_type": "code",
   "execution_count": 134,
   "id": "2c28c70f",
   "metadata": {},
   "outputs": [
    {
     "name": "stdout",
     "output_type": "stream",
     "text": [
      "(27.6,)\n"
     ]
    }
   ],
   "source": [
    "cur.execute('SELECT SUM(Rainfall) FROM Climatetable WHERE City = \"Cairo\"')\n",
    "\n",
    "for record in cur:\n",
    "    print(record)"
   ]
  },
  {
   "cell_type": "markdown",
   "id": "7c9c9fa0",
   "metadata": {},
   "source": [
    "# h) \n",
    "The total rainfall for each season."
   ]
  },
  {
   "cell_type": "code",
   "execution_count": 135,
   "id": "bf933f62",
   "metadata": {
    "scrolled": false
   },
   "outputs": [
    {
     "name": "stdout",
     "output_type": "stream",
     "text": [
      "('Fall', 569.0)\n",
      "('Spring', 192.29999999999998)\n",
      "('Summer', 1706.5)\n",
      "('Winter', 230.1)\n"
     ]
    }
   ],
   "source": [
    "cur.execute('SELECT Season, SUM(Rainfall) FROM Climatetable GROUP BY Season')\n",
    "\n",
    "for record in cur:\n",
    "    print(record)"
   ]
  },
  {
   "cell_type": "markdown",
   "id": "21cfc355",
   "metadata": {},
   "source": [
    "# Question 9\n",
    "Suppose list words is defined as follows:\n",
    ">>> words = ['The', 'quick', 'brown', 'fox', 'jumps', 'over', 'the', 'lazy', 'dog']\n",
    "Write list comprehension expressions that use list words and generate the following lists:    "
   ]
  },
  {
   "cell_type": "markdown",
   "id": "14f8542d",
   "metadata": {},
   "source": [
    "# a) \n",
    "['THE', 'QUICK', 'BROWN', 'FOX', 'JUMPS', 'OVER', 'THE', 'LAZY', 'DOG']"
   ]
  },
  {
   "cell_type": "code",
   "execution_count": 136,
   "id": "221ed131",
   "metadata": {},
   "outputs": [
    {
     "name": "stdout",
     "output_type": "stream",
     "text": [
      "['THE', 'QUICK', 'BROWN', 'FOX', 'JUMPS', 'OVER', 'THE', 'LAZY', 'DOG']\n"
     ]
    }
   ],
   "source": [
    "words = ['The', 'quick', 'brown', 'fox', 'jumps', 'over', 'the', 'lazy', 'dog']\n",
    "\n",
    "words1 = [x.upper() for x in words] \n",
    "\n",
    "print(words1)"
   ]
  },
  {
   "cell_type": "markdown",
   "id": "9164520f",
   "metadata": {},
   "source": [
    "# b) \n",
    "['the', 'quick', 'brown', 'fox', 'jumps', 'over', 'the', 'lazy', 'dog']"
   ]
  },
  {
   "cell_type": "code",
   "execution_count": 137,
   "id": "44b9e58f",
   "metadata": {},
   "outputs": [
    {
     "name": "stdout",
     "output_type": "stream",
     "text": [
      "['the', 'quick', 'brown', 'fox', 'jumps', 'over', 'the', 'lazy', 'dog']\n"
     ]
    }
   ],
   "source": [
    "words = ['The', 'quick', 'brown', 'fox', 'jumps', 'over', 'the', 'lazy', 'dog']\n",
    "\n",
    "words2 = [x.lower() for x in words] \n",
    "\n",
    "print(words2)"
   ]
  },
  {
   "cell_type": "markdown",
   "id": "977c3de3",
   "metadata": {},
   "source": [
    "# c)\n",
    "[3, 5, 5, 3, 5, 4, 3, 4, 3] (the list of lengths of words in list words)."
   ]
  },
  {
   "cell_type": "code",
   "execution_count": 138,
   "id": "725334e7",
   "metadata": {},
   "outputs": [
    {
     "name": "stdout",
     "output_type": "stream",
     "text": [
      "[3, 5, 5, 3, 5, 4, 3, 4, 3]\n"
     ]
    }
   ],
   "source": [
    "words = ['The', 'quick', 'brown', 'fox', 'jumps', 'over', 'the', 'lazy', 'dog']\n",
    "\n",
    "count = [len(x) for x in words]\n",
    "\n",
    "print(count)"
   ]
  },
  {
   "cell_type": "markdown",
   "id": "bf2f1c79",
   "metadata": {},
   "source": [
    "# d)\n",
    "[['THE', 'the', 3], ['QUICK', 'quick', 5], ['BROWN', 'brown', 5], ['FOX', 'fox', 3], ['JUMPS', 'jumps', 5], ['OVER', 'over', 4], ['THE', 'the', 3], ['LAZY', 'lazy', 4], ['DOG', 'dog', 3]] (the list containing a list for every word of list words, where each list contains the word in uppercase and lowercase and the length of the word.)"
   ]
  },
  {
   "cell_type": "code",
   "execution_count": 139,
   "id": "2a5abf23",
   "metadata": {},
   "outputs": [
    {
     "name": "stdout",
     "output_type": "stream",
     "text": [
      "[['THE', 'the', 3], ['QUICK', 'quick', 5], ['BROWN', 'brown', 5], ['FOX', 'fox', 3], ['JUMPS', 'jumps', 5], ['OVER', 'over', 4], ['THE', 'the', 3], ['LAZY', 'lazy', 4], ['DOG', 'dog', 3]]\n"
     ]
    }
   ],
   "source": [
    "words = ['The', 'quick', 'brown', 'fox', 'jumps', 'over', 'the', 'lazy', 'dog']\n",
    "\n",
    "result = [[x.upper(), x.lower(), len(x)] for x in words]\n",
    "\n",
    "print(result)"
   ]
  },
  {
   "cell_type": "markdown",
   "id": "5f7e6912",
   "metadata": {},
   "source": [
    "# e)\n",
    "['The', 'quick', 'brown', 'fox', 'jumps', 'over', 'the', 'lazy', 'dog'] (the list of words in list words containing 4 or more characters.)"
   ]
  },
  {
   "cell_type": "code",
   "execution_count": 140,
   "id": "88845a3e",
   "metadata": {},
   "outputs": [
    {
     "name": "stdout",
     "output_type": "stream",
     "text": [
      "['quick', 'brown', 'jumps', 'over', 'lazy']\n"
     ]
    }
   ],
   "source": [
    "words = ['The', 'quick', 'brown', 'fox', 'jumps', 'over', 'the', 'lazy', 'dog']\n",
    "\n",
    "result = [ x for x in words if len(x)>=4]\n",
    "\n",
    "print(result)"
   ]
  },
  {
   "cell_type": "code",
   "execution_count": null,
   "id": "cdd3ece0",
   "metadata": {},
   "outputs": [],
   "source": []
  }
 ],
 "metadata": {
  "kernelspec": {
   "display_name": "Python 3 (ipykernel)",
   "language": "python",
   "name": "python3"
  },
  "language_info": {
   "codemirror_mode": {
    "name": "ipython",
    "version": 3
   },
   "file_extension": ".py",
   "mimetype": "text/x-python",
   "name": "python",
   "nbconvert_exporter": "python",
   "pygments_lexer": "ipython3",
   "version": "3.10.9"
  }
 },
 "nbformat": 4,
 "nbformat_minor": 5
}
