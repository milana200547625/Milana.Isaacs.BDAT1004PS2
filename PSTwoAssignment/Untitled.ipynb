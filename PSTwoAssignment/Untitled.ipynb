{
 "cells": [
  {
   "cell_type": "code",
   "execution_count": 3,
   "id": "e22455e8",
   "metadata": {},
   "outputs": [
    {
     "data": {
      "text/plain": [
       "<sqlite3.Cursor at 0x17d1f372340>"
      ]
     },
     "execution_count": 3,
     "metadata": {},
     "output_type": "execute_result"
    }
   ],
   "source": [
    "import sqlite3\n",
    "con = sqlite3.connect('Sea.db')\n",
    "cur = con.cursor()\n",
    "cur.execute(\"CREATE TABLE Seatab (City, Country, Season, Temperature, Rainfall)\")"
   ]
  },
  {
   "cell_type": "code",
   "execution_count": null,
   "id": "1e904cba",
   "metadata": {},
   "outputs": [],
   "source": [
    "infile = open(\"Question8SQL\", \"r\")\n",
    "         content = infile.readlines()\n",
    "         infile.close()\n",
    "        "
   ]
  }
 ],
 "metadata": {
  "kernelspec": {
   "display_name": "Python 3 (ipykernel)",
   "language": "python",
   "name": "python3"
  },
  "language_info": {
   "codemirror_mode": {
    "name": "ipython",
    "version": 3
   },
   "file_extension": ".py",
   "mimetype": "text/x-python",
   "name": "python",
   "nbconvert_exporter": "python",
   "pygments_lexer": "ipython3",
   "version": "3.10.9"
  }
 },
 "nbformat": 4,
 "nbformat_minor": 5
}
